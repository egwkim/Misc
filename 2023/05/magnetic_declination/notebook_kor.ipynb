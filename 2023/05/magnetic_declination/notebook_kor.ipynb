{
 "cells": [
  {
   "cell_type": "markdown",
   "metadata": {},
   "source": [
    "# 편각 계산하기"
   ]
  },
  {
   "attachments": {},
   "cell_type": "markdown",
   "metadata": {},
   "source": [
    "## 요약\n",
    "\n",
    "지구 자기장 모델을 만들어 편각을 계산하기 위해 두 가지 시도를 했다.\n",
    "\n",
    "첫째, 코사인의 법칙을 구면삼각형으로 확장하여 이를 이용하였다. 지구를 완벽한 구로 생각하고 관찰자, 진북, 자북을 잇는 구면 삼각형을 그린다. 여기서 관찰자 쪽에 생기는 각을 계산하였다.\n",
    "\n",
    "둘째, 자북과 자남 근처에 각각 자기 홀극이 존재한다고 가정하고 자기장 벡터를 계산하였다. 북쪽에는 S극, 남쪽에는 N극을 맨틀과 외핵 경계면 깊이에 두었다. 자기장의 세기는 거리 제곱에 반비례한다고 가정하였다. 지표의 특정 위치에서 자기장의 수평 성분을 계산하고 벡터 연산을 통해 편각을 구했다.\n",
    "\n",
    "각 방법으로 지구 자기 편각 지도를 그려본다. WMM(World Magnetic Model)과 비교해보고 차이를 분석한다. "
   ]
  },
  {
   "attachments": {},
   "cell_type": "markdown",
   "metadata": {},
   "source": [
    "## 방법 1: 구면 코사인 법칙"
   ]
  },
  {
   "attachments": {},
   "cell_type": "markdown",
   "metadata": {},
   "source": [
    "### 코사인 법칙 구면삼각형으로 확장하기\n",
    "\n",
    "반지름이 1인 구 위에 구면삼각형 ABC를 잡자. 점 A, B, C의 대변을 각각 a, b, c라 하자. 그러면 다음 식이 성립한다. (A, B, C에서 $\\angle$ 기호는 생략하였다.)\n",
    "\n",
    "$$\n",
    "\\cos a = \\sin b \\sin c \\cos A + \\cos b \\cos c \\\\[0.5em]\n",
    "\\cos A = {\\cos a - \\cos b \\cos c \\over \\sin b \\sin c}\n",
    "$$\n",
    "\n",
    "따라서 구면삼각형의 세 변의 길이를 알면 세 각도 알 수 있다."
   ]
  },
  {
   "cell_type": "markdown",
   "metadata": {},
   "source": [
    "### 편각 계산하기\n",
    "\n",
    "지구를 완벽한 구로 가정하고 진북, 자북, 관찰자를 세 점으로 하는 구면삼각형을 그릴 수 있다.\n",
    "세 점의 위도, 경도가 주어지면 각 변의 길이를 계산하고 이를 이용하여 편각을 구한다."
   ]
  },
  {
   "cell_type": "markdown",
   "metadata": {},
   "source": [
    "진북을 점 A, 자북을 점 B, 관찰자를 점 C라 하자. \n",
    "다음 식을 통해 각 변의 길이와 편각을 구할 수 있다.\n",
    "$\\phi_m$, $\\lambda_m$ 은 자북의 위도, 경도이고 $\\phi_o$, $\\lambda_o$는 관찰자의 위도, 경도이다.\n",
    "\n",
    "$$\n",
    "A = | \\lambda_m - \\lambda_o | \\\\[0.5em]\n",
    "b = {\\pi \\over 2} - \\phi_o \\\\[0.5em]\n",
    "c = {\\pi \\over 2} - \\phi_m \\\\[0.5em]\n",
    "\\cos a = \\sin b \\sin c \\cos A + \\cos b \\cos c \\\\[0.7em]\n",
    "\\sin a = \\sqrt{1 - \\cos^2 a} \\\\[0.5em]\n",
    "\\cos C = {\\cos c - \\cos a \\cos b \\over \\sin a \\sin b}\n",
    "$$\n",
    "\n",
    "$\\cos a$를 구할 때, $\\cos C$를 구할 때 각각 코사인 법칙이 사용되었다."
   ]
  },
  {
   "cell_type": "code",
   "execution_count": null,
   "metadata": {},
   "outputs": [],
   "source": [
    "import numpy as np\n",
    "import plotly.graph_objects as go\n",
    "\n",
    "# Magnetic pole location was from WMM pole locations (year 2023)\n",
    "# https://www.ngdc.noaa.gov/geomag/data/poles/WMM2020_NP.xy\n",
    "magnetic_north_lon = 146.826\n",
    "magnetic_north_lat = 86.146\n",
    "magnetic_south_lon = 135.417\n",
    "magnetic_south_lat = -63.930\n",
    "\n",
    "feature_x = np.arange(-180, 180, 0.2)\n",
    "feature_y = np.arange(-90, 90, 0.2)\n",
    "\n",
    "# Observer longitude and latitude\n",
    "lon, lat = np.meshgrid(feature_x, feature_y)\n",
    "\n",
    "sign = np.sign((lon - magnetic_north_lon) % 360 - 180)\n",
    "A = np.deg2rad(np.abs(magnetic_north_lon - lon))\n",
    "b = np.deg2rad(90 - lat)\n",
    "c = np.deg2rad(90 - magnetic_north_lat)\n",
    "cos_a = np.sin(b) * np.sin(c) * np.cos(A) + np.cos(b) * np.cos(c)\n",
    "sin_a = np.sqrt(1 - np.square(cos_a))\n",
    "cos_C = np.clip((np.cos(c) - cos_a * np.cos(b)) / (sin_a * np.sin(b)), -1, 1)\n",
    "\n",
    "# Magnetic declination\n",
    "Z = np.rad2deg(np.arccos(cos_C)) * sign"
   ]
  },
  {
   "cell_type": "code",
   "execution_count": null,
   "metadata": {},
   "outputs": [],
   "source": [
    "fig = go.Figure(\n",
    "    data=[\n",
    "        go.Contour(\n",
    "            x=feature_x,\n",
    "            y=feature_y,\n",
    "            z=Z,\n",
    "            contours=dict(\n",
    "                coloring=\"heatmap\",\n",
    "                showlabels=True,  # show labels on contours\n",
    "                labelfont=dict(  # label font properties\n",
    "                    size=12,\n",
    "                    color=\"white\",\n",
    "                ),\n",
    "            ),\n",
    "            showlegend=False,\n",
    "            ncontours=20,\n",
    "        ),\n",
    "    ]\n",
    ")\n",
    "fig.update_yaxes(\n",
    "    scaleanchor=\"x\",\n",
    "    scaleratio=1,\n",
    ")\n",
    "fig.show()\n",
    "# fig.write_image(\"fig1.png\", scale=2)"
   ]
  },
  {
   "attachments": {},
   "cell_type": "markdown",
   "metadata": {},
   "source": [
    "<!-- Resized, cropped for print\n",
    "<div style=\"width: auto; height:260px; overflow:hidden;\"><img src=\"./fig1.png\" style=\"margin-top: -65px;height: 375px;\" height=\"300px\"></div>\n",
    "-->\n",
    "\n",
    "<img src=\"./fig1.png\" width=\"75%\">"
   ]
  },
  {
   "attachments": {},
   "cell_type": "markdown",
   "metadata": {},
   "source": [
    "### 결과 분석\n",
    "\n",
    "거의 모든 지역에서 편각이 0에 가깝고 극지방에서만 급격히 변하는 것을 확인할 수 있다. 또한 실제 지구와 다르게 매우 대칭적이다.\n",
    "\n",
    "오류의 원인으로 다음과 같은 문제점이 있다고 생각한다.\n",
    "\n",
    " - 지구 자기장의 수평 성분이 구면에서 자북의 방향과 일치하지 않을 수 있다.\n",
    " - 지구 자기장은 실제로 대칭적이지 않다. 자북과 자남이 정반대가 아니다.\n",
    " - 지구는 완벽한 구가 아니다.\n",
    " "
   ]
  },
  {
   "attachments": {},
   "cell_type": "markdown",
   "metadata": {},
   "source": [
    "## 방법 2: 자기장 벡터 계산"
   ]
  },
  {
   "attachments": {},
   "cell_type": "markdown",
   "metadata": {},
   "source": [
    "### 편각 계산하기\n",
    "\n",
    "\n",
    "지구 자기장이 두 개의 자기 홀극에 의해 만들어진다고 가정한다. 자북극 아래에 S극을 놓고, 자남극 아래에 N극을 놓는다. 자기 홀극의 깊이는 맨틀-외핵 경계면 부근으로 설정하였다.\n",
    "\n",
    "지구를 중심이 원점이고 반지름이 1인 구로 가정한다. 자전축이 z축이 되도록 좌표를 설정한다.\n",
    "자북의 S극의 위치벡터를 $\\overrightarrow{p_n}$, 자남의 N극의 위치벡터를 $\\overrightarrow{p_s}$라 하자.\n",
    "\n",
    "구면 위의 관찰자의 위치벡터를 $\\overrightarrow{x}$라 하자.\n",
    "$\\overrightarrow{x}$ 에서 자기장 벡터는 다음과 같다.\n",
    "\n",
    "$$\n",
    "\\overrightarrow{B} = \n",
    "      { \\overrightarrow{p_n} - \\overrightarrow{x} \\over \n",
    "\\left\\| \\overrightarrow{p_n} - \\overrightarrow{x} \\right\\| ^3 } - \n",
    "      { \\overrightarrow{p_s} - \\overrightarrow{x} \\over \n",
    "\\left\\| \\overrightarrow{p_s} - \\overrightarrow{x} \\right\\| ^3 }\n",
    "$$\n",
    "\n",
    "자기장 방향만 계산하면 되기 때문에 상댓값으로 계산한다.\n",
    "\n",
    "$\\overrightarrow{x}$에서 구면에 대한 법선벡터는 $\\overrightarrow{x}$이다.\n",
    "자기장의 수평 방향은 $\\overrightarrow{x}$에서 구면의 접평면에 자기장 벡터를 사영한 것이다.\n",
    "자기장의 수직 성분을 $-k \\overrightarrow{x}$라 하면\n",
    "수평 성분은 $\\overrightarrow{B} + k \\overrightarrow{x}$이다.\n",
    "따라서 $k$는 다음 식을 만족한다.\n",
    "\n",
    "$$\n",
    "( \\overrightarrow{B} + k \\overrightarrow{x} ) \\cdot \\overrightarrow{x} = 0\n",
    "$$\n",
    "\n",
    "수평 성분을 $\\overrightarrow{d_m}$이라 하자.\n",
    "$$\n",
    "\\overrightarrow{d_m} = \\overrightarrow{B} + k \\overrightarrow{x}\n",
    "$$\n",
    "\n",
    "식을 정리하여 $k$를 구할 수 있다. 구의 반지름이 1이기 때문에 $\\overrightarrow{x} \\cdot \\overrightarrow{x} = 1$이다.\n",
    "\n",
    "$$\n",
    "\\overrightarrow{B} \\cdot \\overrightarrow{x}\n",
    "+ k \\overrightarrow{x} \\cdot \\overrightarrow{x} = 0\n",
    "\\\\\n",
    "k = -\\overrightarrow{B} \\cdot \\overrightarrow{x}\n",
    "$$"
   ]
  },
  {
   "cell_type": "markdown",
   "metadata": {},
   "source": [
    "진북의 위치벡터를 $\\overrightarrow{x_t}$라 하자.\n",
    "그러면 $\\overrightarrow{x}$에서 진북으로의 방향 벡터는 $\\overrightarrow{x_t} - \\overrightarrow{x}$이다.\n",
    "\n",
    "방향 벡터의 수직 성분을 $-k' \\overrightarrow{x}$라 하면 수평 성분은 $(\\overrightarrow{x_t} - \\overrightarrow{x}) + k' \\overrightarrow{x}$이다.\n",
    "$k'$는 다음 식을 만족한다.\n",
    "\n",
    "$$\n",
    "( (\\overrightarrow{x_t} - \\overrightarrow{x}) + k' \\overrightarrow{x} ) \\cdot \\overrightarrow{x} = 0\n",
    "\\\\\n",
    "$$\n",
    "\n",
    "$$\n",
    "\\begin{align*}\n",
    "k' &= - (\\overrightarrow{x_t} - \\overrightarrow{x}) \\cdot \\overrightarrow{x} \\\\\n",
    "   &= \\; 1 - \\overrightarrow{x_t} \\cdot \\overrightarrow{x}\n",
    "\\end{align*}\n",
    "$$\n",
    "\n",
    "수평 성분을 $\\overrightarrow{d_t}$라 하자. 이를 계산하면 다음과 같다.\n",
    "$$\n",
    "\\begin{align*}\n",
    "\\overrightarrow{d_t}\n",
    "&= (\\overrightarrow{x_t} - \\overrightarrow{x}) + k' \\overrightarrow{x} \n",
    "\\\\\n",
    "&= \\overrightarrow{x_t} - (\\overrightarrow{x_t} \\cdot \\overrightarrow{x}) \\overrightarrow{x}\n",
    "\\end{align*}\n",
    "$$\n",
    "\n",
    "$\\overrightarrow{x}$에서 편각을 $\\theta$라 하자.\n",
    "$\\theta$가 $\\overrightarrow{d_m}$와 $\\overrightarrow{d_t}$가 이루는 각이기 때문에 내적, 외적을 이용하여 이를 계산할 수 있다.\n",
    "\n",
    "$$\n",
    "\\cos \\theta = \n",
    "{ \\overrightarrow{d_m} \\cdot\n",
    "\\overrightarrow{d_t}\n",
    "\\over \\left\\| \\overrightarrow{d_m} \\right\\|\n",
    "\\left\\|\\overrightarrow{d_t} \\right\\|}\n",
    "\\\\[1em]\n",
    "\\sin \\theta = { \\overrightarrow{d_m} \\times\n",
    "\\overrightarrow{d_t}\n",
    "\\over \\left\\| \\overrightarrow{d_m} \\right\\|\n",
    "\\left\\|\\overrightarrow{d_t} \\right\\|}\n",
    "\\cdot \\overrightarrow{x}\n",
    "$$"
   ]
  },
  {
   "cell_type": "code",
   "execution_count": null,
   "metadata": {},
   "outputs": [],
   "source": [
    "def gcs_to_vec(lat, lon):\n",
    "    x = np.cos(lat) * np.sin(lon)\n",
    "    y = np.cos(lat) * np.cos(lon)\n",
    "    z = np.sin(lat)\n",
    "    return np.array([x, y, z])\n",
    "\n",
    "\n",
    "pn_depth = 3600 / 6400\n",
    "ps_depth = 3600 / 6400\n"
   ]
  },
  {
   "cell_type": "code",
   "execution_count": null,
   "metadata": {},
   "outputs": [],
   "source": [
    "# Observer longitude and latitude\n",
    "lon, lat = np.meshgrid(feature_x, feature_y)\n",
    "\n",
    "x = gcs_to_vec(np.deg2rad(lat), np.deg2rad(lon))\n",
    "\n",
    "pn = gcs_to_vec(np.deg2rad(magnetic_north_lat), np.deg2rad(magnetic_north_lon))\n",
    "pn = pn * pn_depth\n",
    "pn = np.broadcast_to(np.reshape(pn, (3, 1, 1)), np.shape(x))\n",
    "ps = gcs_to_vec(np.deg2rad(magnetic_south_lat), np.deg2rad(magnetic_south_lon))\n",
    "ps = ps * ps_depth\n",
    "ps = np.broadcast_to(np.reshape(ps, (3, 1, 1)), np.shape(x))\n",
    "\n",
    "x_t = np.broadcast_to(np.reshape([0, 0, 1], (3, 1, 1)), np.shape(x))\n",
    "\n",
    "pn_min_x = pn - x\n",
    "pn_min_x_len_cubed = np.power(np.sum(np.square(pn_min_x), axis=0), 1.5)\n",
    "\n",
    "ps_min_x = ps - x\n",
    "ps_min_x_len_cubed = np.power(np.sum(np.square(ps_min_x), axis=0), 1.5)\n",
    "\n",
    "B = pn_min_x / pn_min_x_len_cubed - ps_min_x / ps_min_x_len_cubed\n",
    "k = -np.sum(B * x, axis=0)\n",
    "d_m = B + k * x\n",
    "# Normalize d_m\n",
    "d_m = d_m / np.sqrt(np.sum(np.square(d_m), axis=0))\n",
    "\n",
    "# Since x_t is [0, 0, 1], x_t dot x is the z component of x.\n",
    "d_t = x_t - x[2] * x\n",
    "# Normalize d_t\n",
    "d_t = d_t / np.sqrt(np.sum(np.square(d_t), axis=0))\n",
    "\n",
    "cos_theta = np.clip(np.sum(d_t * d_m, axis=0), -1, 1)\n",
    "sin_theta = np.clip(np.sum(x * np.cross(d_t, d_m, 0, 0, 0), axis=0), -1, 1)\n",
    "\n",
    "# Magnetic declination\n",
    "theta = np.rad2deg(np.arccos(cos_theta)) * np.sign(sin_theta)"
   ]
  },
  {
   "cell_type": "code",
   "execution_count": null,
   "metadata": {},
   "outputs": [],
   "source": [
    "fig = go.Figure(\n",
    "    data=[\n",
    "        go.Contour(\n",
    "            x=feature_x,\n",
    "            y=feature_y,\n",
    "            z=theta,\n",
    "            contours=dict(\n",
    "                coloring=\"heatmap\",\n",
    "                showlabels=True,  # show labels on contours\n",
    "                labelfont=dict(  # label font properties\n",
    "                    size=12,\n",
    "                    color=\"white\",\n",
    "                ),\n",
    "            ),\n",
    "            showlegend=False,\n",
    "            ncontours=20,\n",
    "        ),\n",
    "    ]\n",
    ")\n",
    "fig.update_yaxes(\n",
    "    scaleanchor=\"x\",\n",
    "    scaleratio=1,\n",
    ")\n",
    "fig.show()\n",
    "# fig.write_image(\"fig2.png\", scale=2)"
   ]
  },
  {
   "attachments": {},
   "cell_type": "markdown",
   "metadata": {},
   "source": [
    "<!-- Resized, cropped for print\n",
    "<div style=\"width: auto; height:260px; overflow:hidden;\"><img src=\"./fig2.png\" style=\"margin-top: -65px;height: 375px;\" height=\"300px\"></div>\n",
    "-->\n",
    "\n",
    "<img src=\"./fig2.png\" width=\"75%\">"
   ]
  },
  {
   "cell_type": "markdown",
   "metadata": {},
   "source": [
    "### 결과 분석\n",
    "\n",
    "여전히 WMM에 비하면 단순하지만 방법 1보다는 더 비슷해졌다. 대체로 남반구에서 편각의 크기가 큰데 이는 자남극이 극에서 더 멀기 때문이라고 생각한다. 여기서는 자북과 자남 부근에 자기 홀극 각각 1개씩을 놓아 더 복잡한 형태를 만들 수 없다. 지구 곳곳에서 자기장 벡터를 측정하고 이를 바탕으로 여러 개의 자기 홀극으로 이루어진 모델을 만들면 실제 지구 자기장과 더 유사한 모델을 얻을 수 있을 것이라 생각한다."
   ]
  }
 ],
 "metadata": {
  "kernelspec": {
   "display_name": ".venv",
   "language": "python",
   "name": "python3"
  },
  "language_info": {
   "codemirror_mode": {
    "name": "ipython",
    "version": 3
   },
   "file_extension": ".py",
   "mimetype": "text/x-python",
   "name": "python",
   "nbconvert_exporter": "python",
   "pygments_lexer": "ipython3",
   "version": "3.11.2"
  },
  "orig_nbformat": 4
 },
 "nbformat": 4,
 "nbformat_minor": 2
}
