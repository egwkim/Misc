{
 "cells": [
  {
   "cell_type": "markdown",
   "metadata": {},
   "source": [
    "# Calculating magnetic declination"
   ]
  },
  {
   "attachments": {},
   "cell_type": "markdown",
   "metadata": {},
   "source": [
    "## Summary\n",
    "\n",
    "This notebook contains attempts to create the Earth's magnetic field model and calculate the magnetic declination.\n",
    "\n",
    "The first method was to use the law of cosines. Expand the law of cosines to the triangle on a sphere, and use it to calculate the magnetic declination. The triangle is created from three points, the true north, the magnetic north, and an observer. Move the observer around the earth and see how the magnetic declination varies. Draw contour line on a world map to visualize declination.\n",
    "\n",
    "The second method was to think of the Earth's magnetic field as created from the two magnetic monopoles. Locate each monopole under the magnetic north pole and the magnetic south pole. Then calculate the magnetic field on a given point on the sphere. Using vector operations, calculate the horizontal component of the magnetic field and magnetic declination. Draw contour line and compare it with method 1.\n",
    "\n",
    "Finally, compare both results with the WMM model, and analyze the results and errors."
   ]
  },
  {
   "attachments": {},
   "cell_type": "markdown",
   "metadata": {},
   "source": [
    "## Method 1: using the law of cosines."
   ]
  },
  {
   "attachments": {},
   "cell_type": "markdown",
   "metadata": {},
   "source": [
    "### Expanding the law of consines\n",
    "\n",
    "Assume a sphere with the radius of 1. A, B, and C are three different points on the sphere and a, b, and c are their opposite sides accordingly.\n",
    "Then, the following equation holds for all triangle ABC. ( $\\angle$ signs are omitted for simplicity.)\n",
    "\n",
    "$$\n",
    "\\cos a = \\sin b \\sin c \\cos A + \\cos b \\cos c \\\\[0.5em]\n",
    "or, \\\\[0.5em]\n",
    "\\cos A = {\\cos a - \\cos b \\cos c \\over \\sin b \\sin c}\n",
    "$$\n",
    "\n",
    "Thus, if we know the lenghts of three sides of a triangle on a sphere, we can then calculate angles with the formula."
   ]
  },
  {
   "cell_type": "markdown",
   "metadata": {},
   "source": [
    "### Calculating magnetic declination\n",
    "\n",
    "Given three points, the true north, the magnetic north, and the observer, we can think of a triangle on a sphere with those points as vertices. Assuming that the magnetic declination is the same as the angle between two sides of a triangle shareing the observer point, we can calculate the magnetic declination with the above formula. "
   ]
  },
  {
   "cell_type": "markdown",
   "metadata": {},
   "source": [
    "Let's say that the true north is point A, the magnetic north is point B, and the observer is point C. Then we can get three side lengths.\n",
    "\n",
    "$$\n",
    "A = | \\lambda_m - \\lambda_o | \\\\[0.5em]\n",
    "b = {\\pi \\over 2} - \\phi_o \\\\[0.5em]\n",
    "c = {\\pi \\over 2} - \\phi_m \\\\[0.5em]\n",
    "\\cos a = \\sin b \\sin c \\cos A + \\cos b \\cos c \\\\[0.7em]\n",
    "\\sin a = \\sqrt{1 - \\cos^2 a} \\\\[0.5em]\n",
    "\\cos C = {\\cos c - \\cos a \\cos b \\over \\sin a \\sin b}\n",
    "$$\n",
    "\n",
    "where $\\phi_m$ and $\\lambda_m$ are latitude and longitude of the magnetic north, and $\\phi_o$ and $\\lambda_o$ are those of the observer."
   ]
  },
  {
   "cell_type": "code",
   "execution_count": null,
   "metadata": {},
   "outputs": [],
   "source": [
    "import numpy as np\n",
    "import plotly.graph_objects as go\n",
    "\n",
    "# Magnetic pole location was from WMM pole locations (year 2023)\n",
    "# https://www.ngdc.noaa.gov/geomag/data/poles/WMM2020_NP.xy\n",
    "magnetic_north_lon = 146.826\n",
    "magnetic_north_lat = 86.146\n",
    "magnetic_south_lon = 135.417\n",
    "magnetic_south_lat = -63.930\n",
    "\n",
    "feature_x = np.arange(-180, 180, 0.2)\n",
    "feature_y = np.arange(-90, 90, 0.2)\n",
    "\n",
    "# Observer longitude and latitude\n",
    "lon, lat = np.meshgrid(feature_x, feature_y)\n",
    "\n",
    "sign = np.sign((lon - magnetic_north_lon) % 360 - 180)\n",
    "A = np.deg2rad(np.abs(magnetic_north_lon - lon))\n",
    "b = np.deg2rad(90 - lat)\n",
    "c = np.deg2rad(90 - magnetic_north_lat)\n",
    "cos_a = np.sin(b) * np.sin(c) * np.cos(A) + np.cos(b) * np.cos(c)\n",
    "sin_a = np.sqrt(1 - np.square(cos_a))\n",
    "cos_C = np.clip((np.cos(c) - cos_a * np.cos(b)) / (sin_a * np.sin(b)), -1, 1)\n",
    "\n",
    "# Magnetic declination\n",
    "Z = np.rad2deg(np.arccos(cos_C)) * sign"
   ]
  },
  {
   "cell_type": "code",
   "execution_count": null,
   "metadata": {},
   "outputs": [],
   "source": [
    "fig = go.Figure(\n",
    "    data=[\n",
    "        go.Contour(\n",
    "            x=feature_x,\n",
    "            y=feature_y,\n",
    "            z=Z,\n",
    "            contours=dict(\n",
    "                coloring=\"heatmap\",\n",
    "                showlabels=True,  # show labels on contours\n",
    "                labelfont=dict(  # label font properties\n",
    "                    size=12,\n",
    "                    color=\"white\",\n",
    "                ),\n",
    "            ),\n",
    "            showlegend=False,\n",
    "            ncontours=20,\n",
    "        ),\n",
    "    ]\n",
    ")\n",
    "fig.update_yaxes(\n",
    "    scaleanchor=\"x\",\n",
    "    scaleratio=1,\n",
    ")\n",
    "fig.show()\n",
    "# fig.write_image(\"fig1.png\", scale=2)"
   ]
  },
  {
   "attachments": {},
   "cell_type": "markdown",
   "metadata": {},
   "source": [
    "<!-- Resized, cropped for print\n",
    "<div style=\"width: auto; height:260px; overflow:hidden;\"><img src=\"./fig1.png\" style=\"margin-top: -65px;height: 375px;\" height=\"300px\"></div>\n",
    "-->\n",
    "\n",
    "<img src=\"./fig1.png\" width=\"75%\">"
   ]
  },
  {
   "attachments": {},
   "cell_type": "markdown",
   "metadata": {},
   "source": [
    "### Discussion\n",
    "\n",
    "Earth magnetic field is a complex model. In this (over) simplified model, we are missing too many things, and therefore not getting the suitable result. \n",
    "Followings are the potential reasons for the error:\n",
    "\n",
    " - Magnetic declination is actually based on the magnetic field's horizontal component, not the shortest path from the observer to the magnetic pole. \n",
    " - We are not considering the magnetic south pole. This matters because the Earth's magnetic field is not symmetrical in reality.\n",
    " - The Earth is not a perfect sphere.\n",
    " "
   ]
  },
  {
   "attachments": {},
   "cell_type": "markdown",
   "metadata": {},
   "source": [
    "## Method 2: using vector operations"
   ]
  },
  {
   "attachments": {},
   "cell_type": "markdown",
   "metadata": {},
   "source": [
    "### Calculating magnetic declination\n",
    "\n",
    "Assume the Earth's magnetic field is created from two magnetic monopoles, the south pole located under the north magnetic pole, and the north pole located under the south magnetic pole. Note that the Earth's magnetic poles and the poles of the Earth's magnetic field are the opposite.\n",
    "\n",
    "Suppose that the Earth is a sphere with the radius of 1.\n",
    "Let $\\overrightarrow{p_n}$ be the position vector of the south pole of the magnetic field (or the magnetic north pole), and $\\overrightarrow{p_s}$ be the position vector of the north pole of the magnetic field.\n",
    "\n",
    "Let $\\overrightarrow{x}$ be the position vector of a point on the sphere.\n",
    "The relative magnetic field at $\\overrightarrow{x}$ is the following\n",
    "\n",
    "$$\n",
    "\\overrightarrow{B} = \n",
    "      { \\overrightarrow{p_n} - \\overrightarrow{x} \\over \n",
    "\\left\\| \\overrightarrow{p_n} - \\overrightarrow{x} \\right\\| ^3 } - \n",
    "      { \\overrightarrow{p_s} - \\overrightarrow{x} \\over \n",
    "\\left\\| \\overrightarrow{p_s} - \\overrightarrow{x} \\right\\| ^3 }\n",
    "$$\n",
    "\n",
    "The relative value is sufficient to calculate the direction of the magnetic field.\n",
    "\n",
    "Note that the surface normal vector at $ \\overrightarrow{x} $ is $\\overrightarrow{x}$ itself.\n",
    "The horizontal component of the magnetic field is the projection to the tangent plane at $\\overrightarrow{x}$. To calculate it define $k$ such that\n",
    "\n",
    "$$\n",
    "( \\overrightarrow{B} + k \\overrightarrow{x} ) \\cdot \\overrightarrow{x} = 0\n",
    "$$\n",
    "\n",
    "Then the horizontal factor is\n",
    "$$\n",
    "\\overrightarrow{d_m} = \\overrightarrow{B} + k \\overrightarrow{x}\n",
    "$$\n",
    "\n",
    "We can simplify the equation to calculate $k$. Since $\\overrightarrow{x} \\cdot \\overrightarrow{x} = 1$,\n",
    "\n",
    "$$\n",
    "\\overrightarrow{B} \\cdot \\overrightarrow{x}\n",
    "+ k \\overrightarrow{x} \\cdot \\overrightarrow{x} = 0\n",
    "\\\\\n",
    "k = -\\overrightarrow{B} \\cdot \\overrightarrow{x}\n",
    "$$"
   ]
  },
  {
   "cell_type": "markdown",
   "metadata": {},
   "source": [
    "\n",
    "\n",
    "Let $\\overrightarrow{x_t}$ be the position vector of the true north.\n",
    "Then the direction to the north at $\\overrightarrow{x}$ is $\\overrightarrow{x_t} - \\overrightarrow{x}$.\n",
    "To get the horizontal factor, we can define $k'$ such that\n",
    "\n",
    "$$\n",
    "( (\\overrightarrow{x_t} - \\overrightarrow{x}) + k' \\overrightarrow{x} ) \\cdot \\overrightarrow{x} = 0\n",
    "\\\\\n",
    "$$\n",
    "\n",
    "$$\n",
    "\\begin{align*}\n",
    "k' &= - (\\overrightarrow{x_t} - \\overrightarrow{x}) \\cdot \\overrightarrow{x} \\\\\n",
    "   &= \\; 1 - \\overrightarrow{x_t} \\cdot \\overrightarrow{x}\n",
    "\\end{align*}\n",
    "$$\n",
    "\n",
    "The horizontal factor is\n",
    "$$\n",
    "\\begin{align*}\n",
    "\\overrightarrow{d_t}\n",
    "&= (\\overrightarrow{x_t} - \\overrightarrow{x}) + k' \\overrightarrow{x} \n",
    "\\\\\n",
    "&= \\overrightarrow{x_t} - (\\overrightarrow{x_t} \\cdot \\overrightarrow{x}) \\overrightarrow{x}\n",
    "\\end{align*}\n",
    "$$\n",
    "\n",
    "Let $\\theta$ be the magnetic declination at $\\overrightarrow{x}$. Since $\\theta$ is the angle between $ \\overrightarrow{d_m} $ and $ \\overrightarrow{d_t} $, and $ \\overrightarrow{d_m} $ and $ \\overrightarrow{d_t} $ are perpendicular to $ \\overrightarrow{x} $, we get\n",
    "\n",
    "$$\n",
    "\\cos \\theta = \n",
    "{ \\overrightarrow{d_m} \\cdot\n",
    "\\overrightarrow{d_t}\n",
    "\\over \\left\\| \\overrightarrow{d_m} \\right\\|\n",
    "\\left\\|\\overrightarrow{d_t} \\right\\|}\n",
    "\\\\[1em]\n",
    "\\sin \\theta = { \\overrightarrow{d_m} \\times\n",
    "\\overrightarrow{d_t}\n",
    "\\over \\left\\| \\overrightarrow{d_m} \\right\\|\n",
    "\\left\\|\\overrightarrow{d_t} \\right\\|}\n",
    "\\cdot \\overrightarrow{x}\n",
    "$$"
   ]
  },
  {
   "cell_type": "code",
   "execution_count": null,
   "metadata": {},
   "outputs": [],
   "source": [
    "def gcs_to_vec(lat, lon):\n",
    "    x = np.cos(lat) * np.sin(lon)\n",
    "    y = np.cos(lat) * np.cos(lon)\n",
    "    z = np.sin(lat)\n",
    "    return np.array([x, y, z])\n",
    "\n",
    "\n",
    "pn_depth = 3600 / 6400\n",
    "ps_depth = 3600 / 6400\n"
   ]
  },
  {
   "cell_type": "code",
   "execution_count": null,
   "metadata": {},
   "outputs": [],
   "source": [
    "# Observer longitude and latitude\n",
    "lon, lat = np.meshgrid(feature_x, feature_y)\n",
    "\n",
    "x = gcs_to_vec(np.deg2rad(lat), np.deg2rad(lon))\n",
    "\n",
    "pn = gcs_to_vec(np.deg2rad(magnetic_north_lat), np.deg2rad(magnetic_north_lon))\n",
    "pn = pn * pn_depth\n",
    "pn = np.broadcast_to(np.reshape(pn, (3, 1, 1)), np.shape(x))\n",
    "ps = gcs_to_vec(np.deg2rad(magnetic_south_lat), np.deg2rad(magnetic_south_lon))\n",
    "ps = ps * ps_depth\n",
    "ps = np.broadcast_to(np.reshape(ps, (3, 1, 1)), np.shape(x))\n",
    "\n",
    "x_t = np.broadcast_to(np.reshape([0, 0, 1], (3, 1, 1)), np.shape(x))\n",
    "\n",
    "pn_min_x = pn - x\n",
    "pn_min_x_len_cubed = np.power(np.sum(np.square(pn_min_x), axis=0), 1.5)\n",
    "\n",
    "ps_min_x = ps - x\n",
    "ps_min_x_len_cubed = np.power(np.sum(np.square(ps_min_x), axis=0), 1.5)\n",
    "\n",
    "B = pn_min_x / pn_min_x_len_cubed - ps_min_x / ps_min_x_len_cubed\n",
    "k = -np.sum(B * x, axis=0)\n",
    "d_m = B + k * x\n",
    "# Normalize d_m\n",
    "d_m = d_m / np.sqrt(np.sum(np.square(d_m), axis=0))\n",
    "\n",
    "# Since x_t is [0, 0, 1], x_t dot x is the z component of x.\n",
    "d_t = x_t - x[2] * x\n",
    "# Normalize d_t\n",
    "d_t = d_t / np.sqrt(np.sum(np.square(d_t), axis=0))\n",
    "\n",
    "cos_theta = np.clip(np.sum(d_t * d_m, axis=0), -1, 1)\n",
    "sin_theta = np.clip(np.sum(x * np.cross(d_t, d_m, 0, 0, 0), axis=0), -1, 1)\n",
    "\n",
    "# Magnetic declination\n",
    "theta = np.rad2deg(np.arccos(cos_theta)) * np.sign(sin_theta)"
   ]
  },
  {
   "cell_type": "code",
   "execution_count": null,
   "metadata": {},
   "outputs": [],
   "source": [
    "fig = go.Figure(\n",
    "    data=[\n",
    "        go.Contour(\n",
    "            x=feature_x,\n",
    "            y=feature_y,\n",
    "            z=theta,\n",
    "            contours=dict(\n",
    "                coloring=\"heatmap\",\n",
    "                showlabels=True,  # show labels on contours\n",
    "                labelfont=dict(  # label font properties\n",
    "                    size=12,\n",
    "                    color=\"white\",\n",
    "                ),\n",
    "            ),\n",
    "            showlegend=False,\n",
    "            ncontours=20,\n",
    "        ),\n",
    "    ]\n",
    ")\n",
    "fig.update_yaxes(\n",
    "    scaleanchor=\"x\",\n",
    "    scaleratio=1,\n",
    ")\n",
    "fig.show()\n",
    "# fig.write_image(\"fig2.png\", scale=2)"
   ]
  },
  {
   "attachments": {},
   "cell_type": "markdown",
   "metadata": {},
   "source": [
    "<!-- Resized, cropped for print\n",
    "<div style=\"width: auto; height:260px; overflow:hidden;\"><img src=\"./fig2.png\" style=\"margin-top: -65px;height: 375px;\" height=\"300px\"></div>\n",
    "-->\n",
    "\n",
    "<img src=\"./fig2.png\" width=\"75%\">"
   ]
  }
 ],
 "metadata": {
  "kernelspec": {
   "display_name": ".venv",
   "language": "python",
   "name": "python3"
  },
  "language_info": {
   "codemirror_mode": {
    "name": "ipython",
    "version": 3
   },
   "file_extension": ".py",
   "mimetype": "text/x-python",
   "name": "python",
   "nbconvert_exporter": "python",
   "pygments_lexer": "ipython3",
   "version": "3.11.3"
  },
  "orig_nbformat": 4
 },
 "nbformat": 4,
 "nbformat_minor": 2
}
