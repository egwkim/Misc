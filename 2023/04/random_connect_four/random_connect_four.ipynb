{
 "cells": [
  {
   "attachments": {},
   "cell_type": "markdown",
   "metadata": {},
   "source": [
    "무작위 connect four 게임의 통계 분석"
   ]
  },
  {
   "cell_type": "code",
   "execution_count": 1,
   "metadata": {},
   "outputs": [],
   "source": [
    "import connect_four\n",
    "import random\n",
    "\n",
    "\n",
    "def random_game():\n",
    "    board = connect_four.ConnectFourBoard()\n",
    "\n",
    "    while True:\n",
    "        board.move(random.randint(0, board.width - 1))\n",
    "        if board.finished:\n",
    "            break\n",
    "\n",
    "    return board.winner\n"
   ]
  },
  {
   "cell_type": "code",
   "execution_count": 2,
   "metadata": {},
   "outputs": [
    {
     "name": "stdout",
     "output_type": "stream",
     "text": [
      "무승부 14482\n",
      "선공 승 550053\n",
      "후공 승 435465\n"
     ]
    }
   ],
   "source": [
    "iteration = 1000000\n",
    "\n",
    "result = [0, 0, 0]\n",
    "for i in range(iteration):\n",
    "    result[random_game()] += 1\n",
    "\n",
    "print(\"무승부\", result[0])\n",
    "print(\"선공 승\", result[1])\n",
    "print(\"후공 승\", result[2])\n"
   ]
  }
 ],
 "metadata": {
  "kernelspec": {
   "display_name": ".venv",
   "language": "python",
   "name": "python3"
  },
  "language_info": {
   "codemirror_mode": {
    "name": "ipython",
    "version": 3
   },
   "file_extension": ".py",
   "mimetype": "text/x-python",
   "name": "python",
   "nbconvert_exporter": "python",
   "pygments_lexer": "ipython3",
   "version": "3.11.3"
  },
  "orig_nbformat": 4
 },
 "nbformat": 4,
 "nbformat_minor": 2
}
