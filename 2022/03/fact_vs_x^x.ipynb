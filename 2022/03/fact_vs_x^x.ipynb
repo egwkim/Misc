{
 "cells": [
  {
   "cell_type": "markdown",
   "metadata": {},
   "source": [
    "x<sup>x</sup> = n!\n",
    "\n",
    "Solve for x and plot (n,x)\n",
    "\n",
    "or plot (n, x/n)\n"
   ]
  },
  {
   "cell_type": "code",
   "execution_count": null,
   "metadata": {},
   "outputs": [],
   "source": [
    "import matplotlib.pyplot as plt\n",
    "import math\n"
   ]
  },
  {
   "cell_type": "code",
   "execution_count": null,
   "metadata": {},
   "outputs": [],
   "source": [
    "newton_iteration = 100\n",
    "max_n = 100\n"
   ]
  },
  {
   "cell_type": "markdown",
   "metadata": {},
   "source": [
    "Solve x<sup>x</sup> = n!\n"
   ]
  },
  {
   "cell_type": "code",
   "execution_count": null,
   "metadata": {},
   "outputs": [],
   "source": [
    "x = 1\n",
    "x_data = []\n",
    "y_data = []\n",
    "\n",
    "for n in range(1, max_n):\n",
    "    for j in range(newton_iteration):\n",
    "        x -= (x ** x - math.factorial(n)) / (x ** x * (1 + math.log(x)))\n",
    "\n",
    "    x_data.append(x)\n",
    "    y_data.append(n)\n",
    "\n",
    "plt.plot(x_data, y_data, color=\"b\")\n",
    "plt.show()\n"
   ]
  },
  {
   "cell_type": "markdown",
   "metadata": {},
   "source": [
    "Alternatively, solve xln(x) = ln(n!)\n"
   ]
  },
  {
   "cell_type": "code",
   "execution_count": null,
   "metadata": {},
   "outputs": [],
   "source": [
    "newton_iteration = 20\n",
    "max_n = 1000000\n"
   ]
  },
  {
   "cell_type": "code",
   "execution_count": null,
   "metadata": {},
   "outputs": [],
   "source": [
    "x = 1\n",
    "x_data = []\n",
    "y_data = []\n",
    "\n",
    "s = 0\n",
    "for n in range(1, max_n):\n",
    "    s += math.log(n)\n",
    "    for j in range(newton_iteration):\n",
    "        x -= (x * math.log(x) - s) / (1 + math.log(x))\n",
    "    x_data.append(n)\n",
    "    y_data.append(x)\n",
    "\n",
    "plt.plot(x_data, y_data, color=\"b\")\n",
    "plt.show()\n"
   ]
  },
  {
   "cell_type": "markdown",
   "metadata": {},
   "source": [
    "Solve xln(x) = ln(n!) and plot (n,x/n)\n"
   ]
  },
  {
   "cell_type": "code",
   "execution_count": null,
   "metadata": {},
   "outputs": [],
   "source": [
    "x = 1\n",
    "x_data = []\n",
    "y_data = []\n",
    "\n",
    "s = 0\n",
    "for n in range(1, max_n):\n",
    "    s += math.log(n)\n",
    "    for j in range(newton_iteration):\n",
    "        x -= (x * math.log(x) - s) / (1 + math.log(x))\n",
    "    x_data.append(n)\n",
    "    y_data.append(x/n)\n",
    "\n",
    "plt.plot(x_data, y_data, color=\"b\")\n",
    "plt.show()\n"
   ]
  },
  {
   "cell_type": "markdown",
   "metadata": {},
   "source": [
    "Calculate more?\n"
   ]
  },
  {
   "cell_type": "code",
   "execution_count": null,
   "metadata": {},
   "outputs": [],
   "source": [
    "# Init\n",
    "x = 1\n",
    "x_data = []\n",
    "y_data = []\n",
    "s = 0\n",
    "prev_data = []\n"
   ]
  },
  {
   "cell_type": "code",
   "execution_count": null,
   "metadata": {},
   "outputs": [],
   "source": [
    "# Keep calculating (preserve previous data)\n",
    "# Interrupt to exit\n",
    "\n",
    "# Reducing iteration saves time but also makes data more inaccurate\n",
    "newton_iteration = 100\n",
    "step = 200000  # Enlarge step to reduce calculation\n",
    "\n",
    "update_period = 100\n",
    "n = len(x_data)\n",
    "\n",
    "try:\n",
    "    x, x_data, y_data, s, n = prev_data\n",
    "    plt.plot(x_data, y_data, color=\"b\")\n",
    "    plt.show()\n",
    "    print(y_data[-1])\n",
    "finally:\n",
    "    prev_data = []\n",
    "    while(1):\n",
    "        for i in range(update_period):\n",
    "            for j in range(step):\n",
    "                n += 1\n",
    "                s += math.log(n)\n",
    "            for j in range(newton_iteration):\n",
    "                x -= (x * math.log(x) - s) / (1 + math.log(x))\n",
    "            x_data.append(n)\n",
    "            y_data.append(x/n)\n",
    "            prev_data = [x, x_data, y_data, s, n]\n",
    "        from IPython.display import clear_output\n",
    "        clear_output(wait=True)\n",
    "        plt.plot(x_data, y_data, color=\"b\")\n",
    "        plt.show()\n",
    "        print(y_data[-1])\n"
   ]
  },
  {
   "cell_type": "code",
   "execution_count": null,
   "metadata": {},
   "outputs": [],
   "source": [
    "\n",
    "# save data to file\n",
    "with open(\"data.txt\", \"w\") as f:\n",
    "    f.write(str(prev_data))\n"
   ]
  },
  {
   "cell_type": "code",
   "execution_count": null,
   "metadata": {},
   "outputs": [],
   "source": []
  }
 ],
 "metadata": {
  "interpreter": {
   "hash": "2a8ffb4c59dbcd74540237873da8ff2dc74bdf049844606dcee210f6c2c4ca56"
  },
  "kernelspec": {
   "display_name": "Python 3.10.1 ('notebook')",
   "language": "python",
   "name": "python3"
  },
  "language_info": {
   "codemirror_mode": {
    "name": "ipython",
    "version": 3
   },
   "file_extension": ".py",
   "mimetype": "text/x-python",
   "name": "python",
   "nbconvert_exporter": "python",
   "pygments_lexer": "ipython3",
   "version": "3.10.1"
  },
  "orig_nbformat": 4
 },
 "nbformat": 4,
 "nbformat_minor": 2
}
