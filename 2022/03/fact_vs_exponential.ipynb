{
 "cells": [
  {
   "cell_type": "markdown",
   "metadata": {},
   "source": [
    "Compare n!, x<sup>n</sup>, n<sup>x</sup>, x<sup>x</sup>\n",
    "\n",
    "Extension of fact_vs_x^x\n"
   ]
  },
  {
   "cell_type": "code",
   "execution_count": 5,
   "metadata": {},
   "outputs": [],
   "source": [
    "import matplotlib.pyplot as plt\n",
    "import math\n",
    "from IPython.display import clear_output\n"
   ]
  },
  {
   "cell_type": "markdown",
   "metadata": {},
   "source": [
    "Reducing iteration saves time but also makes data more inaccurate.  \n",
    "Enlarge step to reduce calculation.\n"
   ]
  },
  {
   "cell_type": "code",
   "execution_count": 14,
   "metadata": {},
   "outputs": [],
   "source": [
    "# Set functions for newton method\n",
    "functions = [lambda x, n, s: x * (n * math.log(x) - s) / n,\n",
    "             lambda x, n, s: x - s / (math.log(n)),\n",
    "             lambda x, n, s: (x * math.log(x) - s) / (1 + math.log(x))]\n"
   ]
  },
  {
   "cell_type": "code",
   "execution_count": 27,
   "metadata": {},
   "outputs": [],
   "source": [
    "# Init\n",
    "newton_iteration = 100\n",
    "step = 1000\n"
   ]
  },
  {
   "cell_type": "code",
   "execution_count": 29,
   "metadata": {},
   "outputs": [],
   "source": [
    "# Init\n",
    "x_data = [1]\n",
    "y_data = [[1], [1], [1]]\n",
    "s = 0\n",
    "n = 1\n",
    "prev_data = []\n"
   ]
  },
  {
   "cell_type": "code",
   "execution_count": 30,
   "metadata": {},
   "outputs": [
    {
     "data": {
      "image/png": "[encoded data removed]",
      "text/plain": [
       "<Figure size 432x288 with 1 Axes>"
      ]
     },
     "metadata": {
      "needs_background": "light"
     },
     "output_type": "display_data"
    }
   ],
   "source": [
    "# Keep calculating (preserve previous data)\n",
    "# Interrupt to exit\n",
    "\n",
    "\n",
    "update_period = 1000\n",
    "\n",
    "\n",
    "def plot(x_data, y_data):\n",
    "    clear_output(wait=True)\n",
    "    plt.plot(x_data, y_data[0], color=\"r\")\n",
    "    plt.plot(x_data, y_data[1], color=\"g\")\n",
    "    plt.plot(x_data, y_data[2], color=\"b\")\n",
    "    plt.show()\n",
    "\n",
    "\n",
    "def newton_method(f, x, n, s):\n",
    "    for i in range(newton_iteration):\n",
    "        x -= f(x, n, s)\n",
    "    return x\n",
    "\n",
    "\n",
    "try:\n",
    "    x_data, y_data, s, n = prev_data\n",
    "    plot(x_data, y_data)\n",
    "finally:\n",
    "    prev_data = []\n",
    "    while(1):\n",
    "        for i in range(update_period):\n",
    "            for j in range(step):\n",
    "                n += 1\n",
    "                s += math.log(n)\n",
    "\n",
    "            x_data.append(n)\n",
    "            \n",
    "            for j, (f, x) in enumerate(zip(functions, [k[-1]for k in y_data])):\n",
    "                y_data[j].append(newton_method(f, x, n, s))\n",
    "\n",
    "            prev_data = [x_data, y_data, s, n]\n",
    "\n",
    "        plot(x_data, y_data)\n"
   ]
  },
  {
   "cell_type": "code",
   "execution_count": null,
   "metadata": {},
   "outputs": [],
   "source": [
    "\n",
    "# save data to file\n",
    "with open(\"data.txt\", \"w\") as f:\n",
    "    f.write(str(prev_data))\n"
   ]
  },
  {
   "cell_type": "code",
   "execution_count": null,
   "metadata": {},
   "outputs": [],
   "source": []
  }
 ],
 "metadata": {
  "interpreter": {
   "hash": "2a8ffb4c59dbcd74540237873da8ff2dc74bdf049844606dcee210f6c2c4ca56"
  },
  "kernelspec": {
   "display_name": "Python 3.10.1 ('notebook')",
   "language": "python",
   "name": "python3"
  },
  "language_info": {
   "codemirror_mode": {
    "name": "ipython",
    "version": 3
   },
   "file_extension": ".py",
   "mimetype": "text/x-python",
   "name": "python",
   "nbconvert_exporter": "python",
   "pygments_lexer": "ipython3",
   "version": "3.10.1"
  },
  "orig_nbformat": 4
 },
 "nbformat": 4,
 "nbformat_minor": 2
}
