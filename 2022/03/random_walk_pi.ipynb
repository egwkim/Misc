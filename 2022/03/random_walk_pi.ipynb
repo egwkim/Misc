{
 "cells": [
  {
   "cell_type": "markdown",
   "metadata": {},
   "source": [
    "Calculating PI with random walk using the following equation:\n",
    "\n",
    "$\\displaystyle{\\lim_{n \\to \\infty}} {E(|S_n|) \\over \\sqrt n} = \\sqrt {2 \\over \\pi}$.\n",
    "\n",
    "For more description, visit [Wikipedia](https://en.wikipedia.org/wiki/Random_walk#One-dimensional_random_walk)\n"
   ]
  },
  {
   "cell_type": "markdown",
   "metadata": {},
   "source": [
    "Originally, I was going to do this project on March 14th.\n",
    "It's a bit late, but I think it is still worth doing this.\n"
   ]
  },
  {
   "cell_type": "code",
   "execution_count": null,
   "metadata": {},
   "outputs": [],
   "source": [
    "import matplotlib.pyplot as plt\n",
    "import numpy as np\n"
   ]
  },
  {
   "cell_type": "code",
   "execution_count": null,
   "metadata": {},
   "outputs": [],
   "source": [
    "n = 100000\n",
    "k = 100\n",
    "\n",
    "step = 1000\n",
    "\n",
    "points = np.zeros(k)\n"
   ]
  },
  {
   "cell_type": "code",
   "execution_count": null,
   "metadata": {},
   "outputs": [],
   "source": [
    "for i in range(1, n+1):\n",
    "    points += np.random.choice([-1, 1], k)\n",
    "\n",
    "    x_data = []\n",
    "    y_data = []\n",
    "\n",
    "    sum_abs_s = 0\n",
    "\n",
    "    for s in set(points):\n",
    "        count = np.count_nonzero(points == s)\n",
    "        x_data.append(s)\n",
    "        y_data.append(count)\n",
    "        sum_abs_s += s * count if s > 0 else -s * count\n",
    "\n",
    "    if i%step==0:\n",
    "        plt.plot(x_data, y_data, 'o')\n",
    "        plt.vlines(x_data, 0, y_data)\n",
    "\n",
    "        from IPython.display import clear_output\n",
    "        clear_output(wait=True)\n",
    "        plt.show()\n",
    "        print(f'{n=}\\n{k=}\\n{sum_abs_s=}')\n",
    "        print(f'{i=}')\n",
    "        print(f'pi = {(2 * (k ** 2) * i / (sum_abs_s ** 2)):.2f}')\n",
    "    #import time;time.sleep(1)\n",
    "    \n",
    "plt.plot(x_data, y_data, 'o')\n",
    "plt.vlines(x_data, 0, y_data)\n",
    "\n",
    "from IPython.display import clear_output\n",
    "clear_output(wait=True)\n",
    "plt.show()\n",
    "print(f'{n=}\\n{k=}\\n{sum_abs_s=}')\n",
    "print(f'{i=}')\n",
    "print(f'pi = {(2 * (k ** 2) * i / (sum_abs_s ** 2)):.2f}')\n"
   ]
  }
 ],
 "metadata": {
  "interpreter": {
   "hash": "2a8ffb4c59dbcd74540237873da8ff2dc74bdf049844606dcee210f6c2c4ca56"
  },
  "kernelspec": {
   "display_name": "Python 3.10.1 ('notebook')",
   "language": "python",
   "name": "python3"
  },
  "language_info": {
   "codemirror_mode": {
    "name": "ipython",
    "version": 3
   },
   "file_extension": ".py",
   "mimetype": "text/x-python",
   "name": "python",
   "nbconvert_exporter": "python",
   "pygments_lexer": "ipython3",
   "version": "3.10.1"
  },
  "orig_nbformat": 4
 },
 "nbformat": 4,
 "nbformat_minor": 2
}
